{
 "cells": [
  {
   "cell_type": "markdown",
   "id": "8c391d7b-308e-44ec-bfc6-095bd5f3b7fb",
   "metadata": {},
   "source": [
    "## Trinidad and Tobago Lotto Plus Data\n",
    "### ID: 816030232          Name: Justyn Caesar\n",
    "### COMP3610 Assignment 1"
   ]
  },
  {
   "cell_type": "markdown",
   "id": "96f046d7-4398-4c64-96ea-aa1a1a03ea29",
   "metadata": {},
   "source": [
    "#### This notebook demonstrates how to scrape, extract and format data from a website and use it to present useful information."
   ]
  },
  {
   "cell_type": "code",
   "execution_count": 64,
   "id": "61fd0916-b803-43d1-af9d-c7522e1bfe5b",
   "metadata": {},
   "outputs": [],
   "source": [
    "from bs4 import BeautifulSoup\n",
    "import requests\n",
    "import pandas as pd\n",
    "import numpy as np\n",
    "import re\n",
    "from datetime import datetime as dt"
   ]
  },
  {
   "cell_type": "markdown",
   "id": "44b89b63-c726-40ea-98bb-e4e20944dc77",
   "metadata": {},
   "source": [
    "### Scraping NLCB website and extracting necessary fields  "
   ]
  },
  {
   "cell_type": "code",
   "execution_count": null,
   "id": "fb22220f-e5f4-4bcd-8390-4f8e8ca6e20e",
   "metadata": {
    "scrolled": true
   },
   "outputs": [],
   "source": [
    "#Making a list of all months and years in a Month-YY format for get requests\n",
    "date_range = [i.strftime('%b-%y') for i in pd.date_range('2010-01-01','2023-12-31', freq='1MS')]\n",
    "\n",
    "data_list = []        # To store all data except date\n",
    "date_list = []        # To store all date information since it is located in a different part of the html\n",
    "for da in date_range:\n",
    "    url = f'https://www.nlcbplaywhelotto.com/nlcb-lotto-plus-results/?monthyear={da}'\n",
    "    page = requests.get(url)\n",
    "    soup = BeautifulSoup(page.content, 'html.parser')\n",
    "    data = soup.find_all('tr', class_='lotto-tr')\n",
    "    date = soup.find_all('tr', class_='lotto-date-tr')\n",
    "    for d in data:  \n",
    "        data2 = d.text.split()\n",
    "        data_list.append(data2)\n",
    "    for da in date:\n",
    "        date2 = da.text.split()\n",
    "        date_list.append(date2)"
   ]
  },
  {
   "cell_type": "markdown",
   "id": "f0b9971b-68ae-4b3d-b275-33a5b781eaae",
   "metadata": {},
   "source": [
    "### Fixing the error where Jackpot and Wins became one value"
   ]
  },
  {
   "cell_type": "code",
   "execution_count": null,
   "id": "c3967351-6327-4bea-9a18-4f88337fdb38",
   "metadata": {},
   "outputs": [],
   "source": [
    "result = []\n",
    "for row in data_list:\n",
    "    updated_row = []\n",
    "    for item in row:\n",
    "        # Find the jackpot attribute\n",
    "        if item.startswith('$'):\n",
    "            remove_last = item[:-1]   # Remove trailing digit\n",
    "            last_digit = (item[-1])   # Extract last digit\n",
    "            updated_row.extend([remove_last, last_digit])  #\n",
    "        else:\n",
    "            updated_row.append(item)\n",
    "    result.append(updated_row)\n",
    "\n",
    "new_date_list = [item for sublist in date_list for item in sublist] \n",
    "date_list = [dt.strptime(p, '%d-%b-%y').strftime('%d/%m/%Y') for p in new_date_list]  #Formatting date\n",
    "\n",
    "df = pd.DataFrame(result, columns = [\"Draw #\", 'Numbers', 'Power Ball', 'Multiplier', 'Jackpot', 'Wins'])\n",
    "df.insert(0,'Draw Date', date_list)\n",
    "\n",
    "df.to_csv('Results.csv', sep = \",\", index = False)"
   ]
  },
  {
   "cell_type": "markdown",
   "id": "5adf7a96-dfe4-48ad-9b5c-99270235effa",
   "metadata": {},
   "source": [
    "### Reloading the dataset as the site became unavailable for scraping"
   ]
  },
  {
   "cell_type": "code",
   "execution_count": 118,
   "id": "4e9dea60-e8d9-4451-92fb-d1c645a86c04",
   "metadata": {},
   "outputs": [],
   "source": [
    "df = pd.read_csv('Results.csv')"
   ]
  },
  {
   "cell_type": "markdown",
   "id": "09b3b843-a9ad-4721-b940-c81e4aec396f",
   "metadata": {},
   "source": [
    "### Cleaning data for better analysis"
   ]
  },
  {
   "cell_type": "code",
   "execution_count": 106,
   "id": "3f008cba-5a70-49cf-b7cc-7be8320744d3",
   "metadata": {},
   "outputs": [],
   "source": [
    "df['Draw #'] = pd.to_numeric(df['Draw #'], errors='coerce').astype('Int64')\n",
    "df['Wins'] = pd.to_numeric(df['Wins'], errors='coerce').astype('Int64')\n",
    "df['Jackpot'] = df['Jackpot'].replace('XX', np.nan)\n",
    "jackpot_series = pd.to_numeric(df[\"Jackpot\"].replace({r'\\$|,': ''}, regex=True), errors='coerce')"
   ]
  },
  {
   "cell_type": "markdown",
   "id": "266eb2f4-44fe-492a-8709-5e4fd90946c8",
   "metadata": {},
   "source": [
    "## Sumamry Statistics"
   ]
  },
  {
   "cell_type": "code",
   "execution_count": 117,
   "id": "22d05800-d8fa-4864-8c17-10e7b55057ed",
   "metadata": {},
   "outputs": [
    {
     "name": "stdout",
     "output_type": "stream",
     "text": [
      "Datatypes in the dataset:\n",
      "\n",
      " Draw Date      object\n",
      "Draw #          Int64\n",
      "Numbers        object\n",
      "Power Ball    float64\n",
      "Multiplier    float64\n",
      "Jackpot        object\n",
      "Wins            Int64\n",
      "dtype: object\n",
      "\n",
      "\n",
      "Overview of data:\n",
      "\n",
      "        Draw #  Power Ball  Multiplier    Wins\n",
      "count 1403.00     1403.00      134.00 1357.00\n",
      "mean  1587.00        5.50        8.43    0.10\n",
      "std    405.16        2.94        6.76    0.32\n",
      "min    886.00        0.00        3.00    0.00\n",
      "25%   1236.50        3.00        4.00    0.00\n",
      "50%   1587.00        6.00        4.00    0.00\n",
      "75%   1937.50        8.00       10.00    0.00\n",
      "max   2288.00       10.00       20.00    3.00\n",
      "\n",
      "Jackpot overview:\n",
      " count       1357.00\n",
      "mean     4499672.66\n",
      "std      3983562.00\n",
      "min            1.00\n",
      "25%      2000000.00\n",
      "50%      2887858.21\n",
      "75%      5820630.46\n",
      "max     31946408.24\n",
      "Name: Jackpot, dtype: float64\n",
      "\n",
      "Largest Jackpot between January 2010 and January 2025:\n",
      " $31,946,408.24\n",
      "\n",
      "Average Jackpot between January 2010 and January 2025:\n",
      " $4,499,672.66\n",
      "\n",
      "The most wins in 1 draw between January 2010 and January 2025:\n",
      " 3\n",
      "\n"
     ]
    }
   ],
   "source": [
    "overview = df.describe()\n",
    "data_types = df.dtypes\n",
    "\n",
    "max_jackpot = jackpot_series.max()\n",
    "max_jackpot = f'${max_jackpot:,.2f}'\n",
    "\n",
    "avg_jackpot = f'${jackpot_series.mean():,.2f}'\n",
    "\n",
    "print(f'Datatypes in the dataset:\\n\\n {data_types}\\n\\n')\n",
    "print(f'Overview of data:\\n\\n {overview}\\n')\n",
    "print(f'Jackpot overview:\\n {jackpot_series.describe()}\\n')\n",
    "print(f'Largest Jackpot between January 2010 and January 2025:\\n {max_jackpot}\\n')\n",
    "print(f'Average Jackpot between January 2010 and January 2025:\\n {avg_jackpot}\\n')\n",
    "print(f'The most wins in 1 draw between January 2010 and January 2025:\\n {df['Wins'].max()}\\n')\n"
   ]
  }
 ],
 "metadata": {
  "kernelspec": {
   "display_name": "Python 3 (ipykernel)",
   "language": "python",
   "name": "python3"
  },
  "language_info": {
   "codemirror_mode": {
    "name": "ipython",
    "version": 3
   },
   "file_extension": ".py",
   "mimetype": "text/x-python",
   "name": "python",
   "nbconvert_exporter": "python",
   "pygments_lexer": "ipython3",
   "version": "3.12.0"
  }
 },
 "nbformat": 4,
 "nbformat_minor": 5
}
