{
 "cells": [
  {
   "cell_type": "code",
   "execution_count": null,
   "id": "5bef497f-03c8-4611-975a-dc18b69f7ce2",
   "metadata": {},
   "outputs": [],
   "source": [
    "# This notebook demonstrates how to scrape, extract and format \n",
    "# data from a website and use it to present useful information."
   ]
  },
  {
   "cell_type": "code",
   "execution_count": 1,
   "id": "61fd0916-b803-43d1-af9d-c7522e1bfe5b",
   "metadata": {},
   "outputs": [],
   "source": [
    "from bs4 import BeautifulSoup\n",
    "import requests\n",
    "import pandas as pd\n",
    "import re"
   ]
  },
  {
   "cell_type": "code",
   "execution_count": 2,
   "id": "fb22220f-e5f4-4bcd-8390-4f8e8ca6e20e",
   "metadata": {},
   "outputs": [],
   "source": [
    "date_start = '2010-01-01'\n",
    "date_end = '2023-12-31'\n",
    "\n",
    "#Making a list of all months and years in a Month-YY format \n",
    "date_range = [i.strftime('%b-%y') for i in pd.date_range('2010-01-01','2023-12-31', freq='1MS')]\n",
    "\n",
    "row = []\n",
    "for da in date_range:\n",
    "    url = f'https://www.nlcbplaywhelotto.com/nlcb-lotto-plus-results/?monthyear={da}'\n",
    "    page = requests.get(url)\n",
    "    soup = BeautifulSoup(page.content, 'html.parser')\n",
    "    data = soup.find_all('tr', class_='lotto-tr')\n",
    "    for d in data:   \n",
    "        data2 = d.text.split()\n",
    "        row.append(data2)"
   ]
  },
  {
   "cell_type": "code",
   "execution_count": null,
   "id": "304efc11-9414-4540-b01e-adf2e47e9fae",
   "metadata": {},
   "outputs": [],
   "source": []
  }
 ],
 "metadata": {
  "kernelspec": {
   "display_name": "Python 3 (ipykernel)",
   "language": "python",
   "name": "python3"
  },
  "language_info": {
   "codemirror_mode": {
    "name": "ipython",
    "version": 3
   },
   "file_extension": ".py",
   "mimetype": "text/x-python",
   "name": "python",
   "nbconvert_exporter": "python",
   "pygments_lexer": "ipython3",
   "version": "3.12.0"
  }
 },
 "nbformat": 4,
 "nbformat_minor": 5
}
